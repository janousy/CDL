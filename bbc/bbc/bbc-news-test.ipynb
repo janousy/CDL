{
 "cells": [
  {
   "cell_type": "code",
   "execution_count": 1,
   "id": "e8fd04f3",
   "metadata": {},
   "outputs": [],
   "source": [
    "!pip install python-pachyderm==6.1.0 -q\n",
    "!pip install scikit-learn==0.24.2 -q\n",
    "!pip install pandas==1.2.4 -q\n",
    "!pip install psycopg2-binary~=2.7.7 -q\n",
    "!pip install nltk~=3.6.2 -q"
   ]
  },
  {
   "cell_type": "code",
   "execution_count": 2,
   "id": "ac607c06",
   "metadata": {},
   "outputs": [],
   "source": [
    "import logging\n",
    "import python_pachyderm\n",
    "import torch\n",
    "from torch.utils.data import Dataset\n",
    "import psycopg2\n",
    "from psycopg2 import sql\n",
    "from urllib.parse import urlparse\n",
    "import pandas as pd\n",
    "from nltk.stem import PorterStemmer\n",
    "from sklearn.feature_extraction.text import CountVectorizer\n",
    "from sklearn.model_selection import train_test_split\n",
    "from sklearn.preprocessing import LabelEncoder"
   ]
  },
  {
   "cell_type": "code",
   "execution_count": 3,
   "id": "db687552",
   "metadata": {},
   "outputs": [],
   "source": [
    "def connect_pachy():\n",
    "    connection = None\n",
    "    try:\n",
    "        PACHYDERM_HOST = '10.64.140.44'\n",
    "        PACHYDER_PORT = 650\n",
    "        # connection = python_pachyderm.Client(host='127.0.0.1', port=30600)\n",
    "        connection = python_pachyderm.Client(host=\"10.64.140.44\", port=650)\n",
    "    except Exception as error:\n",
    "        print(error)\n",
    "\n",
    "    print(\"Pachyderm connection successful\")\n",
    "    return connection\n",
    "\n",
    "\n",
    "def connect_postgres():\n",
    "    connection = None\n",
    "    try:\n",
    "        # TODO: add secrets for postgres credentials\n",
    "        connection = psycopg2.connect(user=\"postgres\",\n",
    "                                      password=\"postgres\",\n",
    "                                      host=\"172.23.76.93\",\n",
    "                                      port=\"5432\",\n",
    "                                      database=\"bbc-news\")\n",
    "    except (Exception, psycopg2.DatabaseError) as error:\n",
    "        print(error)\n",
    "    print(\"Database connection successful\")\n",
    "    return connection"
   ]
  },
  {
   "cell_type": "code",
   "execution_count": 4,
   "id": "5d19d7ff",
   "metadata": {},
   "outputs": [],
   "source": [
    "class NewsDataset(Dataset):\n",
    "    vectorizer = None\n",
    "    label_encoder = None\n",
    "    \n",
    "    train_query = sql.SQL(\"SELECT label_id, label, filepath FROM bbc_train WHERE branch = %s\")\n",
    "    test_query = sql.SQL(\"SELECT label_id, label, filepath FROM bbc_test WHERE branch = %s\")\n",
    "\n",
    "    # train branch repo, test branch repo\n",
    "    def __init__(self, mode: str = 'train', label_source_bucket: str = 'bbc-train-validate', branch: str = \"master\"):\n",
    "        \n",
    "        self.bucket = f'{branch}.{label_source_bucket}'\n",
    "        \n",
    "        # define the labeling encoding\n",
    "        le = LabelEncoder()\n",
    "        bbc_classes = pd.read_csv(\"bbc.classes\", header=None)\n",
    "        print(bbc_classes.iloc[:, 0].values.astype('U'))\n",
    "        le.fit(bbc_classes.iloc[:, 0].values.astype('U'))\n",
    "        self.le = le\n",
    "        \n",
    "        # define the text vectorizer\n",
    "        voc = pd.read_csv(\"bbc.vocab\", header=None)\n",
    "        stemmer = PorterStemmer()\n",
    "        def stemmed_words(doc):\n",
    "            st = [stemmer.stem(w) for w in analyzer(doc)]\n",
    "            return st\n",
    "\n",
    "        analyzer = CountVectorizer().build_analyzer()\n",
    "        stem_vectorizer = CountVectorizer(analyzer=stemmed_words)\n",
    "        stem_vectorizer.fit(voc.iloc[:, 0].values.astype('U'))\n",
    "        print(f'Fitted vectorizer with feature length {len(stem_vectorizer.get_feature_names())}')\n",
    "        self.vectorizer = stem_vectorizer\n",
    "        \n",
    "        if mode=='train':\n",
    "            train_x, val_x, train_y, val_y =  self.load_train_dataset()\n",
    "            self.data_frame = train_x\n",
    "            self.labels = train_y\n",
    "        elif mode=='validate':\n",
    "            train_x, val_x, train_y, val_y =  self.load_train_dataset()\n",
    "            self.data_frame = val_x\n",
    "            self.labels = val_y\n",
    "        \n",
    "        elif mode=='test':\n",
    "            test_x, test_y =  self.load_test_dataset()\n",
    "            self.data_frame = test_x\n",
    "            self.labels = test_y\n",
    "        else: print('invalid mode')\n",
    "        \n",
    "        print(\"Dataset generated\")\n",
    "        print(f'Dataset size in mode {mode}: {self.data_frame.shape}, labels {self.labels.shape}')\n",
    "        \n",
    "    def load_train_dataset(self):\n",
    "        print(\"Loading training data and labels..\")\n",
    "        train_df = self.get_data_set(self.train_query, self.bucket)\n",
    "        print(\"Data loaded\")\n",
    "        print(\"Splitting data\")\n",
    "        train_x_df, val_x_df, train_y_df, val_y_df = train_test_split(train_df['text'], train_df['label'],\n",
    "                                                                      test_size=0.2, random_state=42)\n",
    "\n",
    "        train_y = self.le.transform(train_y_df)\n",
    "        val_y = self.le.transform(val_y_df)\n",
    "\n",
    "        train_x = self.vectorizer.transform(train_x_df)\n",
    "        val_x = self.vectorizer.transform(val_x_df)\n",
    "\n",
    "        train_x = torch.tensor(train_x.toarray()).float()\n",
    "        train_y = torch.tensor(train_y)\n",
    "        val_x = torch.tensor(val_x.toarray()).float()\n",
    "        val_y = torch.tensor(val_y)\n",
    "        \n",
    "        \n",
    "        return train_x, val_x, train_y, val_y\n",
    "    \n",
    "    def load_test_dataset(self):\n",
    "        print(\"Loading test data and labels..\")\n",
    "        test_df = self.get_data_set(self.test_query, self.bucket)\n",
    "        print(\"Data loaded\")\n",
    "\n",
    "        test_y = self.le.transform(test_df['label'])\n",
    "        test_x = self.vectorizer.transform(test_df['text'])\n",
    "        test_y = torch.tensor(test_y)\n",
    "        test_x = torch.tensor(test_x.toarray()).float()\n",
    "        \n",
    "        return test_x, test_y\n",
    "    \n",
    "            \n",
    "    def __len__(self):\n",
    "        return len(self.data_frame)\n",
    "\n",
    "    def __getitem__(self, idx):\n",
    "        if torch.is_tensor(idx):\n",
    "            idx = idx.tolist()\n",
    "        data = self.data_frame[idx]\n",
    "        label = self.labels[idx]\n",
    "        sample = (data, label)\n",
    "        return sample\n",
    "\n",
    "    def get_data_set(self, query, bucket):\n",
    "        pg = connect_postgres()\n",
    "        cursor = pg.cursor()\n",
    "        pc = connect_pachy()\n",
    "\n",
    "        try:\n",
    "            cursor.execute(query, (bucket, ))\n",
    "\n",
    "        except (Exception, psycopg2.DatabaseError) as error:\n",
    "            print(\"Error: %s\" % error)\n",
    "            cursor.close()\n",
    "            print(error)\n",
    "\n",
    "        tupples = cursor.fetchall()\n",
    "        cursor.close()\n",
    "        pg.close()\n",
    "\n",
    "        column_names = [\"label_id\", \"label\", \"filepath\"]\n",
    "        df = pd.DataFrame(tupples, columns=column_names)\n",
    "        df.insert(len(df.columns), 'text', '')\n",
    "\n",
    "        try:\n",
    "            for index, row in df.iterrows():\n",
    "                url = df.at[index, 'filepath']\n",
    "                branch, bucket = urlparse(url).netloc.split(\".\")\n",
    "                _, file = urlparse(url).path.split(\"/\")\n",
    "                train_source = pc.get_file(f'{bucket}/{branch}', file)\n",
    "                text = train_source.read().decode(errors='replace')\n",
    "                df.at[index, 'text'] = text\n",
    "                print(f'{index}/{len(df.index)}', end='\\r')\n",
    "\n",
    "        except Exception as error:\n",
    "            print(error)\n",
    "        return df\n",
    "\n",
    "    def get_text_vectorizer(self):\n",
    "        return self.vectorizer\n",
    "\n",
    "    def get_label_encoder(self):\n",
    "        return self.le"
   ]
  },
  {
   "cell_type": "code",
   "execution_count": 8,
   "id": "f60409d6",
   "metadata": {},
   "outputs": [
    {
     "name": "stdout",
     "output_type": "stream",
     "text": [
      "['business' 'entertainment' 'politics' 'sport' 'tech']\n",
      "Fitted vectorizer with feature length 9474\n",
      "Loading training data and labels..\n",
      "Database connection successful\n",
      "Pachyderm connection successful\n",
      "Data loaded\n",
      "Splitting data\n",
      "Dataset generated\n",
      "Dataset size in mode train: torch.Size([1424, 9474]), labels torch.Size([1424])\n"
     ]
    }
   ],
   "source": [
    "ds = NewsDataset(mode='train', label_source_bucket='bbc-train-validate', branch='master')"
   ]
  },
  {
   "cell_type": "code",
   "execution_count": null,
   "id": "29c0e1a5",
   "metadata": {},
   "outputs": [],
   "source": [
    "torch.set_printoptions(edgeitems=2000)\n",
    "it = ds.__getitem__(8)\n",
    "print(it[0])"
   ]
  },
  {
   "cell_type": "code",
   "execution_count": 5,
   "id": "4cb8a641",
   "metadata": {},
   "outputs": [
    {
     "name": "stdout",
     "output_type": "stream",
     "text": [
      " Name                  | Creation Time               | Last Updated Time           | Metadata\n",
      "-----------------------+-----------------------------+-----------------------------+--------------------------------------------\n",
      " digit-classifier      | 2021-04-30T14:06:09.274685Z | 2021-04-30T14:06:09.274685Z | {}\n",
      " fashion-classifier    | 2021-05-01T08:23:07.977009Z | 2021-05-01T12:49:21.861159Z | {\n",
      "                       |                             |                             |   \"environment\": \"production\"\n",
      "                       |                             |                             | }\n",
      " cifar10-torch         | 2021-05-05T13:46:12.021633Z | 2021-05-05T13:46:12.021633Z | {}\n",
      " fashion-classifier-tf | 2021-05-01T13:15:33.106873Z | 2021-05-12T16:50:03.683927Z | {\n",
      "                       |                             |                             |   \"metrics\": {\n",
      "                       |                             |                             |     \"test_accuracy\": \"0.8699\",\n",
      "                       |                             |                             |     \"test_loss\": \"0.35677289646863936\"\n",
      "                       |                             |                             |   }\n",
      "                       |                             |                             | }\n",
      " news-classifer        | 2021-05-14T11:33:41.115711Z | 2021-05-14T11:33:41.115711Z | {}\n",
      " news-classifier       | 2021-05-14T11:35:48.931291Z | 2021-05-22T06:46:37.807147Z | {\n",
      "                       |                             |                             |   \"metrics\": {\n",
      "                       |                             |                             |     \"test_accuracy\": \"0.9617977528089887\",\n",
      "                       |                             |                             |     \"test_loss\": 5\n",
      "                       |                             |                             |   }\n",
      "                       |                             |                             | }\n"
     ]
    }
   ],
   "source": [
    "!det model list"
   ]
  },
  {
   "cell_type": "code",
   "execution_count": 6,
   "id": "96d7ff0a",
   "metadata": {},
   "outputs": [
    {
     "name": "stdout",
     "output_type": "stream",
     "text": [
      " Name            | Description   | Creation Time               | Last Updated Time           | Metadata\n",
      "-----------------+---------------+-----------------------------+-----------------------------+------------------------------------------------\n",
      " news-classifier |               | 2021-05-14T11:35:48.931291Z | 2021-05-22T06:46:37.807147Z | {\n",
      "                 |               |                             |                             |     \"metrics\": {\n",
      "                 |               |                             |                             |         \"test_accuracy\": \"0.9617977528089887\",\n",
      "                 |               |                             |                             |         \"test_loss\": 5\n",
      "                 |               |                             |                             |     }\n",
      "                 |               |                             |                             | }\n",
      "\n",
      "\n",
      "   Version # |   Trial ID |   Batch # | Checkpoint UUID                      | Validation Metrics                               | Metadata\n",
      "-------------+------------+-----------+--------------------------------------+--------------------------------------------------+------------\n",
      "           3 |        128 |      4686 | d964deb0-bb07-4cb2-a8b9-bbe217e8a158 | {                                                | {}\n",
      "             |            |           |                                      |   \"metrics\": {                                   |\n",
      "             |            |           |                                      |     \"numInputs\": 356,                            |\n",
      "             |            |           |                                      |     \"validationMetrics\": {                       |\n",
      "             |            |           |                                      |       \"validation_accuracy\": 0.9739583333333334, |\n",
      "             |            |           |                                      |       \"validation_error\": 0.026041666666666668   |\n",
      "             |            |           |                                      |     }                                            |\n",
      "             |            |           |                                      |   },                                             |\n",
      "             |            |           |                                      |   \"state\": null                                  |\n",
      "             |            |           |                                      | }                                                |\n"
     ]
    }
   ],
   "source": [
    "!det model describe news-classifier"
   ]
  },
  {
   "cell_type": "code",
   "execution_count": 15,
   "id": "4dd4dc0c",
   "metadata": {},
   "outputs": [],
   "source": [
    "logging.basicConfig()\n",
    "logging.getLogger().setLevel(logging.INFO)\n",
    "from torch.utils.data import DataLoader, Dataset\n",
    "from determined.experimental import Determined\n",
    "\n",
    "class TestModelAccuracy():\n",
    "    DET_MASTER = \"http://10.64.140.43:8080\"\n",
    "    MODEL_NAME = \"news-classifier\"\n",
    "    ACCURACY_THRESHOLD = 0.6\n",
    "\n",
    "    #def setUp(self):\n",
    "    def __init__(self):\n",
    "\n",
    "        self.device = torch.device(\"cuda:0\" if torch.cuda.is_available() else \"cpu\")\n",
    "\n",
    "        logging.info(\"Testing model %s with for accuracy\", self.MODEL_NAME)\n",
    "        logging.info(\"Testing accuracy threshold at %f\", self.ACCURACY_THRESHOLD.__float__())\n",
    "\n",
    "        # get latest version from registered model\n",
    "        #self.det = Determined(master=self.DET_MASTER)\n",
    "        self.det = Determined(master=self.DET_MASTER)\n",
    "        self.model_latest = self.det.get_model(self.MODEL_NAME).get_version()\n",
    "        self.trial = self.det.get_trial(self.model_latest.trial_id)\n",
    "        self.checkpoint = self.trial.select_checkpoint(uuid=self.model_latest.uuid)\n",
    "        self.model = self.checkpoint.load(map_location=self.device)\n",
    "\n",
    "        logging.info(\"Connected to Determined master at %s\", self.DET_MASTER)\n",
    "        logging.info(\"Loaded model %s version %s\", self.model_latest.model_name,\n",
    "                     self.model_latest.model_version)\n",
    "        logging.info(\"Corresponding experiment %s\", self.model_latest.experiment_id)\n",
    "        logging.info(\"Loaded model from checkpoint\")\n",
    "\n",
    "    def test_model_accuracy(self):\n",
    "\n",
    "        # load testing data from pachyderm\n",
    "        test_ds = NewsDataset(mode='test', label_source_bucket='bbc-test-validate', branch='master')\n",
    "        testloader = DataLoader(test_ds)\n",
    "\n",
    "        classes = [\"business\", \"entertainment\", \"politics\", \"sport\", \"tech\"]\n",
    "        correct = 0\n",
    "        total = 0\n",
    "        # since we're not training, we don't need to calculate the gradients for our outputs\n",
    "        with torch.no_grad():\n",
    "            for data in testloader:\n",
    "                texts, labels = data\n",
    "                # calculate outputs by running images through the network\n",
    "                outputs = self.model.model(texts)\n",
    "                # the class with the highest energy is what we choose as prediction\n",
    "                _, predicted = torch.max(outputs.data, 1)\n",
    "                correct += (predicted == labels).sum().item()\n",
    "                total += 1\n",
    "\n",
    "        test_acc = correct / total\n",
    "        # write the test results to model metadata\n",
    "        self.det.get_model(self.MODEL_NAME). \\\n",
    "            add_metadata({\"metrics\": {\"test_accuracy\": str(test_acc),\n",
    "                                      \"test_loss\": 5}})\n",
    "\n",
    "        # also write the test descriptions to the model checkpoint\n",
    "        self.checkpoint.add_metadata({\"metrics\": {\"test_accuracy\": str(test_acc),\n",
    "                                                  \"test_loss\": 5}})\n",
    "\n",
    "        logging.info('Accuracy of the network on the 10000 test images: %.2f', test_acc)\n",
    "        logging.info('Accuracy threshold set at %.2f', self.ACCURACY_THRESHOLD)\n",
    "\n",
    "        #self.assertTrue(test_acc > self.ACCURACY_THRESHOLD, \"Model accuracy lower than threshold\")\n"
   ]
  },
  {
   "cell_type": "code",
   "execution_count": 16,
   "id": "41725b51",
   "metadata": {},
   "outputs": [
    {
     "name": "stderr",
     "output_type": "stream",
     "text": [
      "INFO:root:Testing model news-classifier with for accuracy\n",
      "INFO:root:Testing accuracy threshold at 0.600000\n",
      "INFO:root:Loading Trial implementation with entrypoint model_def:BBCTrial.\n",
      "INFO:root:Connected to Determined master at http://10.64.140.43:8080\n",
      "INFO:root:Loaded model news-classifier version 3\n",
      "INFO:root:Corresponding experiment 98\n",
      "INFO:root:Loaded model from checkpoint\n"
     ]
    }
   ],
   "source": [
    "logging.basicConfig()\n",
    "logging.getLogger().setLevel(logging.INFO)\n",
    "ta = TestModelAccuracy()"
   ]
  },
  {
   "cell_type": "code",
   "execution_count": 17,
   "id": "7227ea95",
   "metadata": {},
   "outputs": [
    {
     "name": "stdout",
     "output_type": "stream",
     "text": [
      "['business' 'entertainment' 'politics' 'sport' 'tech']\n",
      "Fitted vectorizer with feature length 9474\n",
      "Loading test data and labels..\n",
      "Database connection successful\n",
      "Pachyderm connection successful\n",
      "Data loaded\n",
      "Dataset generated\n",
      "Dataset size in mode test: torch.Size([445, 9474]), labels torch.Size([445])\n"
     ]
    },
    {
     "name": "stderr",
     "output_type": "stream",
     "text": [
      "INFO:root:Accuracy of the network on the 10000 test images: 0.97\n",
      "INFO:root:Accuracy threshold set at 0.60\n"
     ]
    }
   ],
   "source": [
    "ta.test_model_accuracy()"
   ]
  },
  {
   "cell_type": "code",
   "execution_count": 18,
   "id": "d0bdd27e",
   "metadata": {},
   "outputs": [
    {
     "name": "stdout",
     "output_type": "stream",
     "text": [
      " Name            | Description   | Creation Time               | Last Updated Time           | Metadata\n",
      "-----------------+---------------+-----------------------------+-----------------------------+------------------------------------------------\n",
      " news-classifier |               | 2021-05-14T11:35:48.931291Z | 2021-05-22T13:26:59.168328Z | {\n",
      "                 |               |                             |                             |     \"metrics\": {\n",
      "                 |               |                             |                             |         \"test_accuracy\": \"0.9730337078651685\",\n",
      "                 |               |                             |                             |         \"test_loss\": 5\n",
      "                 |               |                             |                             |     }\n",
      "                 |               |                             |                             | }\n",
      "\n",
      "\n",
      "   Version # |   Trial ID |   Batch # | Checkpoint UUID                      | Validation Metrics                               | Metadata\n",
      "-------------+------------+-----------+--------------------------------------+--------------------------------------------------+--------------------------------------------\n",
      "           3 |        128 |      4686 | d964deb0-bb07-4cb2-a8b9-bbe217e8a158 | {                                                | {\n",
      "             |            |           |                                      |   \"metrics\": {                                   |   \"metrics\": {\n",
      "             |            |           |                                      |     \"numInputs\": 356,                            |     \"test_accuracy\": \"0.9730337078651685\",\n",
      "             |            |           |                                      |     \"validationMetrics\": {                       |     \"test_loss\": 5\n",
      "             |            |           |                                      |       \"validation_accuracy\": 0.9739583333333334, |   }\n",
      "             |            |           |                                      |       \"validation_error\": 0.026041666666666668   | }\n",
      "             |            |           |                                      |     }                                            |\n",
      "             |            |           |                                      |   },                                             |\n",
      "             |            |           |                                      |   \"state\": null                                  |\n",
      "             |            |           |                                      | }                                                |\n"
     ]
    }
   ],
   "source": [
    "!det model describe 'news-classifier'"
   ]
  },
  {
   "cell_type": "code",
   "execution_count": 42,
   "id": "8082d136",
   "metadata": {},
   "outputs": [],
   "source": [
    "from determined.experimental import Determined\n",
    "import logging\n",
    "import torch\n",
    "import numpy as np\n",
    "logging.basicConfig()\n",
    "logging.getLogger().setLevel(logging.INFO)\n",
    "import os\n",
    "from nltk.stem import PorterStemmer\n",
    "from sklearn.feature_extraction.text import CountVectorizer\n",
    "import pandas as pd\n",
    "\n",
    "class NewsModel(object):\n",
    "    \"\"\"\n",
    "    Model template. You can load your model parameters in __init__ from a location accessible at runtime\n",
    "    \"\"\"\n",
    "\n",
    "    def __init__(self, det_master=\"http://10.64.140.43:8080/\", model_name=\"news-classifier\"):\n",
    "        \"\"\"\n",
    "        Add any initialization parameters. These will be passed at runtime from the graph definition parameters defined in your seldondeployment kubernetes resource manifest.\n",
    "        \"\"\"\n",
    "\n",
    "        self.device = torch.device(\"cuda\" if torch.cuda.is_available() else \"cpu\")\n",
    "        self.det = Determined(master=det_master)\n",
    "        self.model_latest = self.det.get_model(model_name).get_version()\n",
    "        self.trial = self.det.get_trial(self.model_latest.trial_id)\n",
    "        self.checkpoint = self.trial.select_checkpoint(uuid=self.model_latest.uuid)\n",
    "        self.model = self.checkpoint.load(map_location=self.device)\n",
    "\n",
    "        logging.info(\"Connected to Determined master at %s\", det_master)\n",
    "        logging.info(\"Loaded model %s version %s\", self.model_latest.model_name,\n",
    "                     self.model_latest.model_version)\n",
    "        logging.info(\"Corresponding experiment %s\", self.model_latest.experiment_id)\n",
    "        logging.info(\"Loaded model from checkpoint\")\n",
    "        \n",
    "        #TODO: download by UUID\n",
    "        uuid = self.checkpoint.uuid\n",
    "        self.checkpoint.download()\n",
    "        \n",
    "        #f = open(f'checkpoints/{uuid}/code/bbc.vocab')\n",
    "        #bbc_vocab = f.read()\n",
    "        voc = pd.read_csv(f'checkpoints/{uuid}/code/bbc.vocab', header = None)\n",
    "        bbc_classes = pd.read_csv(f'checkpoints/{uuid}/code/bbc.classes', header = None)\n",
    "        \n",
    "        le = LabelEncoder()\n",
    "        bbc_classes = pd.read_csv(\"bbc.classes\", header=None)\n",
    "        logging.info(bbc_classes.iloc[:, 0].values.astype('U'))\n",
    "        le.fit(bbc_classes.iloc[:, 0].values.astype('U'))\n",
    "        self.le = le\n",
    "        \n",
    "        stemmer = PorterStemmer()\n",
    "        def stemmed_words(doc):\n",
    "            st = [stemmer.stem(w) for w in analyzer(doc)]\n",
    "            return st\n",
    "\n",
    "        analyzer = CountVectorizer().build_analyzer()\n",
    "        stem_vectorizer = CountVectorizer(analyzer=stemmed_words)\n",
    "        stem_vectorizer.fit(voc.iloc[:, 0].values.astype('U'))\n",
    "        print(f'Fitted vectorizer with feature length {len(stem_vectorizer.get_feature_names())}')\n",
    "        self.vectorizer = stem_vectorizer\n",
    "\n",
    "    def predict(self, X, features_names=None):\n",
    "        \"\"\"\n",
    "        Return a prediction.\n",
    "        Parameters\n",
    "        ----------\n",
    "        X : array-like\n",
    "        \"\"\"\n",
    "        \n",
    "        logging.info(\"Predict called\")\n",
    "\n",
    "        #probability_model._make_predict_function()\n",
    "        with torch.no_grad():\n",
    "            X_tf = self.vectorizer.transform(X)\n",
    "            #X_tf = np.expand_dims(X_tf, axis=0)\n",
    "            X_tf = torch.tensor(X_tf.toarray()).float()\n",
    "            X_tf = torch.Tensor(X_tf)\n",
    "            pred = self.model.model(X_tf)\n",
    "\n",
    "        label_id = np.argmax(pred[0])\n",
    "        label = self.le.inverse_transform([label_id,])\n",
    "        logging.info(\"Predicted news class: %s\", label[0])\n",
    "\n",
    "        #return self.labels[label_class]"
   ]
  },
  {
   "cell_type": "code",
   "execution_count": 43,
   "id": "bcf8c648",
   "metadata": {},
   "outputs": [
    {
     "name": "stderr",
     "output_type": "stream",
     "text": [
      "INFO:root:Loading Trial implementation with entrypoint model_def:BBCTrial.\n",
      "INFO:root:Connected to Determined master at http://10.64.140.43:8080/\n",
      "INFO:root:Loaded model news-classifier version 3\n",
      "INFO:root:Corresponding experiment 98\n",
      "INFO:root:Loaded model from checkpoint\n",
      "INFO:root:['business' 'entertainment' 'politics' 'sport' 'tech']\n"
     ]
    },
    {
     "name": "stdout",
     "output_type": "stream",
     "text": [
      "Fitted vectorizer with feature length 9474\n"
     ]
    }
   ],
   "source": [
    "model = NewsModel()"
   ]
  },
  {
   "cell_type": "code",
   "execution_count": 50,
   "id": "afcd667a",
   "metadata": {},
   "outputs": [],
   "source": [
    "#actual class: tech\n",
    "text = \"\"\"\n",
    "Apple boss Tim Cook took the witness stand for the first time in his company's major legal battle with Epic Games over an alleged monopoly.\n",
    "Epic, maker of the hit video game Fortnite, claims Apple's tight control over iPhone apps hurts competition.\n",
    "During his appearance, Mr Cook argued that keeping control of the App Store helped keep iPhones secure.\n",
    "He also said he did not know if the App Store made a profit, telling the court Apple did not break down the figures.\n",
    "Facing questions about the level of profit the App Store generates from the 30% commission it takes on sales, he said: \"We don't have a separate profit and loss statement for the App Store.\"\n",
    "Instead, he said that he had a \"feeling\" that it was profitable - but could not share figures with the court.\n",
    "Mr Cook was being questioned about his oversight of top-level decisions around the App Store's policies.\n",
    "Judge Yvonne Gonzalez Rogers also questioned Mr Cook, asking about a survey that showed 39% of developers are dissatisfied with the app store.\n",
    "\"\"\""
   ]
  },
  {
   "cell_type": "code",
   "execution_count": 51,
   "id": "016b36f3",
   "metadata": {},
   "outputs": [
    {
     "name": "stderr",
     "output_type": "stream",
     "text": [
      "INFO:root:Predict called\n",
      "INFO:root:Predicted news class: tech\n"
     ]
    }
   ],
   "source": [
    "model.predict([text])"
   ]
  },
  {
   "cell_type": "code",
   "execution_count": 55,
   "id": "6a6f35d3",
   "metadata": {},
   "outputs": [],
   "source": [
    "#actual class: business\n",
    "text2 = \"\"\"\n",
    "Consumers are still sceptical about electric cars and switching from petrol and diesel remains \"a real challenge\", the boss of Ford UK has told the BBC.\n",
    "Lisa Brankin said more government support for the electric car market would be needed ahead of a proposed ban on new petrol and diesel sales in 2030.\n",
    "Research from energy regulator Ofgem suggests 6.5 million households plan to buy electric cars by 2030.\n",
    "But the number of electric vehicles (EVs) currently in use remains low.\n",
    "Research from the Society of Motor Manufacturers and Traders (SMMT) found EVs account for just over 1% of the 35 million vehicles on UK roads.\n",
    "However, numbers are increasing, with sales of battery-powered vehicles more than doubling last year while the number of plug-in hybrids also grew by more than a third.\n",
    "\"\"\""
   ]
  },
  {
   "cell_type": "code",
   "execution_count": 56,
   "id": "1ea366ed",
   "metadata": {},
   "outputs": [
    {
     "name": "stderr",
     "output_type": "stream",
     "text": [
      "INFO:root:Predict called\n",
      "INFO:root:Predicted news class: business\n"
     ]
    }
   ],
   "source": [
    "model.predict([text2])"
   ]
  },
  {
   "cell_type": "code",
   "execution_count": null,
   "id": "dcbf57fa",
   "metadata": {},
   "outputs": [],
   "source": []
  }
 ],
 "metadata": {
  "kernelspec": {
   "display_name": "Python 3",
   "language": "python",
   "name": "python3"
  },
  "language_info": {
   "codemirror_mode": {
    "name": "ipython",
    "version": 3
   },
   "file_extension": ".py",
   "mimetype": "text/x-python",
   "name": "python",
   "nbconvert_exporter": "python",
   "pygments_lexer": "ipython3",
   "version": "3.7.3"
  }
 },
 "nbformat": 4,
 "nbformat_minor": 5
}
